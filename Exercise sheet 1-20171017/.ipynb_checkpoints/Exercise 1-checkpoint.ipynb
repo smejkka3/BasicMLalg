{
 "cells": [
  {
   "cell_type": "code",
   "execution_count": 22,
   "metadata": {
    "collapsed": true
   },
   "outputs": [],
   "source": [
    "def decision(x):\n",
    "        decis = ''\n",
    "        if x['smoker'] == 'yes':\n",
    "            if x['age'] > 29.5:\n",
    "                decis = 'more'\n",
    "            else:\n",
    "                decis = 'less'\n",
    "        else:\n",
    "            if x['diet'] == 'poor':\n",
    "                decis = 'more'\n",
    "            else:\n",
    "                decis = 'less'\n",
    "        return decis"
   ]
  },
  {
   "cell_type": "code",
   "execution_count": 23,
   "metadata": {},
   "outputs": [
    {
     "data": {
      "text/plain": [
       "'more'"
      ]
     },
     "execution_count": 23,
     "metadata": {},
     "output_type": "execute_result"
    }
   ],
   "source": [
    "decision({'smoker':'yes','age':31,'diet':'good'})"
   ]
  },
  {
   "cell_type": "code",
   "execution_count": null,
   "metadata": {
    "collapsed": true
   },
   "outputs": [],
   "source": []
  }
 ],
 "metadata": {
  "kernelspec": {
   "display_name": "Python 3",
   "language": "python",
   "name": "python3"
  },
  "language_info": {
   "codemirror_mode": {
    "name": "ipython",
    "version": 3
   },
   "file_extension": ".py",
   "mimetype": "text/x-python",
   "name": "python",
   "nbconvert_exporter": "python",
   "pygments_lexer": "ipython3",
   "version": "3.6.2"
  }
 },
 "nbformat": 4,
 "nbformat_minor": 2
}
